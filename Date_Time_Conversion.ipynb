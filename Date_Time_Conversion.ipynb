{
 "cells": [
  {
   "cell_type": "markdown",
   "metadata": {},
   "source": [
    "## Convert the date time \n",
    "### Gigen input format \"DD-MMM-YYYY HH:MM:SS\" convert it to \"YYYY-MM-DDT00:00:00.000Z\"\n",
    "\n",
    "For an input datetime \"18-Mar-2000 16:00:00\" <br>\n",
    "Output should be '2000-03-18T16:00:00.000Z'"
   ]
  },
  {
   "cell_type": "code",
   "execution_count": 2,
   "metadata": {},
   "outputs": [],
   "source": [
    "def dateFun(dt):\n",
    "    \"\"\"\n",
    "    Receive the input of first three letter of a month\n",
    "    Return a number for that month\n",
    "    Convert the datetime by splitting the input date-time and restructuring\n",
    "    \"\"\"\n",
    "    shortMonth={\n",
    "                'Jan': \"01\",\n",
    "                'Feb': \"02\",\n",
    "                'Mar': \"03\",\n",
    "                'Apr': \"04\",\n",
    "                'May': \"05\",\n",
    "                'Jun': \"06\",\n",
    "                'Jul': \"07\",\n",
    "                'Aug': \"08\",\n",
    "                'Sep': \"09\", \n",
    "                'Oct': \"10\",\n",
    "                'Nov': \"11\",\n",
    "                'Dec': \"12\"\n",
    "    }\n",
    "    dt=dt.split(' ')\n",
    "    dateP=dt[0].split('-')[2]+'-'+ shortMonth[dt[0].split('-')[1]]+ '-' + dt[0].split('-')[0]\n",
    "    \n",
    "    return  dateP + 'T'+ dt[1] +'.000Z'\n",
    "     "
   ]
  },
  {
   "cell_type": "code",
   "execution_count": 3,
   "metadata": {},
   "outputs": [],
   "source": [
    "indt=\"18-Mar-2000 16:00:00\""
   ]
  },
  {
   "cell_type": "code",
   "execution_count": 4,
   "metadata": {},
   "outputs": [],
   "source": [
    "resDt=dateFun(indt)"
   ]
  },
  {
   "cell_type": "code",
   "execution_count": 5,
   "metadata": {},
   "outputs": [
    {
     "data": {
      "text/plain": [
       "'2000-03-18T16:00:00.000Z'"
      ]
     },
     "execution_count": 5,
     "metadata": {},
     "output_type": "execute_result"
    }
   ],
   "source": [
    "resDt"
   ]
  },
  {
   "cell_type": "code",
   "execution_count": null,
   "metadata": {},
   "outputs": [],
   "source": []
  },
  {
   "cell_type": "code",
   "execution_count": null,
   "metadata": {},
   "outputs": [],
   "source": []
  }
 ],
 "metadata": {
  "kernelspec": {
   "display_name": "Python 3",
   "language": "python",
   "name": "python3"
  },
  "language_info": {
   "codemirror_mode": {
    "name": "ipython",
    "version": 3
   },
   "file_extension": ".py",
   "mimetype": "text/x-python",
   "name": "python",
   "nbconvert_exporter": "python",
   "pygments_lexer": "ipython3",
   "version": "3.8.3"
  }
 },
 "nbformat": 4,
 "nbformat_minor": 4
}
