{
 "cells": [
  {
   "cell_type": "code",
   "execution_count": 6,
   "metadata": {},
   "outputs": [],
   "source": [
    "import os\n",
    "import random\n",
    "\n",
    "def fun_word_generator():\n",
    "    \"\"\"\n",
    "        Create n number of words (0<n<100)\n",
    "        Lenth of the word should be between 3 to 10\n",
    "        Write words in a file and save\n",
    "    \"\"\"\n",
    "    f = open('spword.txt','w')\n",
    "\n",
    "    for i in range(random.randint(0,100)):\n",
    "        word = []\n",
    "        for j in range(random.randint(3,10)):\n",
    "            k=random.randint(1,26)\n",
    "            k=k+64\n",
    "            #print(k)\n",
    "            word.append(chr(k))\n",
    "        #print(word)\n",
    "        x=''.join(word)\n",
    "        x=x+'\\n'\n",
    "        #print(x)\n",
    "        f.write(x)\n",
    "    f.close()\n",
    "\n",
    "fun_word_generator()"
   ]
  },
  {
   "cell_type": "code",
   "execution_count": 7,
   "metadata": {},
   "outputs": [
    {
     "name": "stdout",
     "output_type": "stream",
     "text": [
      "47\n",
      "HLZNA\n",
      "\n"
     ]
    }
   ],
   "source": [
    "# Open the file, read and count the number of words\n",
    "# Select a random number between 1 and total word\n",
    "# Read the word from that line and print\n",
    "\n",
    "f = open('spword.txt','r')\n",
    "x=f.readline()\n",
    "count=0\n",
    "while x:\n",
    "    count=count+1\n",
    "    x=f.readline()\n",
    "f.close()\n",
    "\n",
    "k=random.randint(1,count)\n",
    "print(k)\n",
    "f = open('spword.txt','r')\n",
    "x=f.readline()\n",
    "count=1\n",
    "while x:\n",
    "    if count==k :\n",
    "        print(x)\n",
    "        f.close()\n",
    "        break\n",
    "    x=f.readline()\n",
    "    count=count+1"
   ]
  },
  {
   "cell_type": "code",
   "execution_count": null,
   "metadata": {},
   "outputs": [],
   "source": []
  }
 ],
 "metadata": {
  "kernelspec": {
   "display_name": "Python 3",
   "language": "python",
   "name": "python3"
  },
  "language_info": {
   "codemirror_mode": {
    "name": "ipython",
    "version": 3
   },
   "file_extension": ".py",
   "mimetype": "text/x-python",
   "name": "python",
   "nbconvert_exporter": "python",
   "pygments_lexer": "ipython3",
   "version": "3.8.3"
  }
 },
 "nbformat": 4,
 "nbformat_minor": 4
}
